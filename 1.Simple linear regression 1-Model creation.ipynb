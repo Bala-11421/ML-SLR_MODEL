{
 "cells": [
  {
   "cell_type": "code",
   "execution_count": 2,
   "id": "07df17bd",
   "metadata": {},
   "outputs": [],
   "source": [
    "#pandas is nothing but contains of all table creation and functions\n",
    "import pandas as pd"
   ]
  },
  {
   "cell_type": "code",
   "execution_count": null,
   "id": "a0ce0ba8",
   "metadata": {},
   "outputs": [],
   "source": [
    "#using panda read all dataset and store it in a variable\n",
    "dataset=pd.read_csv(\"Salary_Data.csv\")\n"
   ]
  },
  {
   "cell_type": "code",
   "execution_count": null,
   "id": "e24d3d72",
   "metadata": {},
   "outputs": [],
   "source": [
    "#spliting the input in a variable\n",
    "independent=Dataset[[\"YearsExperience\"]]\n",
    "independent"
   ]
  },
  {
   "cell_type": "code",
   "execution_count": null,
   "id": "7d1c65d8",
   "metadata": {},
   "outputs": [],
   "source": [
    "#spliting the output in a variable\n",
    "dependent=Dataset[[\"SalaryExpectation\"]]\n",
    "dependent"
   ]
  },
  {
   "cell_type": "code",
   "execution_count": null,
   "id": "0da6beaa",
   "metadata": {},
   "outputs": [],
   "source": [
    "#sklearn is predefined library class and it includes all algorithm as functions\n",
    "from sklearn.model_selection import train_test_split\n",
    "\n",
    "#storing original and test values in a varible\n",
    "X_train,Y_train,Y_train,X_test=train_test_split(independent,dependent, test_size=0.30 ,random_state=0)"
   ]
  },
  {
   "cell_type": "code",
   "execution_count": null,
   "id": "30ece4c0",
   "metadata": {},
   "outputs": [],
   "source": [
    "#import linearreg from liabrary of sklearn for finding the model\n",
    "from sklearn.linear_model import LinearRegression\n",
    "\n",
    "#storing linear class in a variable to using that variable as a input\n",
    "regressior=LinearRegression()\n",
    "\n",
    "#using fit function to get the our slr model\n",
    "regressior.fit(X_train,Y_train)"
   ]
  },
  {
   "cell_type": "code",
   "execution_count": null,
   "id": "82855098",
   "metadata": {},
   "outputs": [],
   "source": [
    "#using that funtion to know the wieght value\n",
    "weight=regressor.coef_\n",
    "weight"
   ]
  },
  {
   "cell_type": "code",
   "execution_count": null,
   "id": "48e554b5",
   "metadata": {},
   "outputs": [],
   "source": [
    "#using that intercept function to know the bias value\n",
    "bias=regressor.intercept_\n",
    "bias"
   ]
  },
  {
   "cell_type": "code",
   "execution_count": null,
   "id": "1d2cbddf",
   "metadata": {},
   "outputs": [],
   "source": [
    "#using predict function to know the the our predictied value using our model\n",
    "y_pred=regressior.predict(X_test)"
   ]
  },
  {
   "cell_type": "code",
   "execution_count": null,
   "id": "22992d92",
   "metadata": {},
   "outputs": [],
   "source": [
    "#using r2 for validating the our model using metrices function\n",
    "from sklearn.metrics import r2_score\n",
    "r_score=r2=score(Y_test,y_pred)"
   ]
  },
  {
   "cell_type": "code",
   "execution_count": null,
   "id": "e0db7cfb",
   "metadata": {},
   "outputs": [],
   "source": [
    "#if the result value nearby 1 then our model is correct\n",
    "r_score"
   ]
  },
  {
   "cell_type": "code",
   "execution_count": null,
   "id": "b2e6a134",
   "metadata": {},
   "outputs": [],
   "source": [
    "#this library is used to save the model\n",
    "import picklle\n",
    "filname=\"finalized_model_linear.sav\""
   ]
  },
  {
   "cell_type": "code",
   "execution_count": null,
   "id": "d86d760c",
   "metadata": {},
   "outputs": [],
   "source": [
    "pickle.dump(regressor,open(filname,'wb'))"
   ]
  },
  {
   "cell_type": "code",
   "execution_count": null,
   "id": "ce605fce",
   "metadata": {},
   "outputs": [],
   "source": [
    "#creating a variable read that file and store\n",
    "loaded_model=pickle.load(open(\"finalized_model_linear.sav,rb\"))\n",
    "\n",
    "#predict the output using predict function and store\n",
    "result=loaded_model.predict[[13]]"
   ]
  },
  {
   "cell_type": "code",
   "execution_count": null,
   "id": "da062e94",
   "metadata": {},
   "outputs": [],
   "source": [
    "result"
   ]
  },
  {
   "cell_type": "code",
   "execution_count": null,
   "id": "860af594",
   "metadata": {},
   "outputs": [],
   "source": []
  },
  {
   "cell_type": "code",
   "execution_count": null,
   "id": "8f0f4b20",
   "metadata": {},
   "outputs": [],
   "source": []
  },
  {
   "cell_type": "code",
   "execution_count": null,
   "id": "2aa85c37",
   "metadata": {},
   "outputs": [],
   "source": []
  },
  {
   "cell_type": "code",
   "execution_count": null,
   "id": "f190c953",
   "metadata": {},
   "outputs": [],
   "source": []
  },
  {
   "cell_type": "code",
   "execution_count": null,
   "id": "e1d55b85",
   "metadata": {},
   "outputs": [],
   "source": []
  },
  {
   "cell_type": "code",
   "execution_count": null,
   "id": "5cb6d887",
   "metadata": {},
   "outputs": [],
   "source": []
  },
  {
   "cell_type": "code",
   "execution_count": null,
   "id": "92f84943",
   "metadata": {},
   "outputs": [],
   "source": []
  },
  {
   "cell_type": "code",
   "execution_count": null,
   "id": "6f76ed66",
   "metadata": {},
   "outputs": [],
   "source": []
  },
  {
   "cell_type": "code",
   "execution_count": null,
   "id": "b42082d7",
   "metadata": {},
   "outputs": [],
   "source": []
  },
  {
   "cell_type": "code",
   "execution_count": null,
   "id": "f7c1169b",
   "metadata": {},
   "outputs": [],
   "source": []
  },
  {
   "cell_type": "code",
   "execution_count": null,
   "id": "c2ed87d6",
   "metadata": {},
   "outputs": [],
   "source": []
  },
  {
   "cell_type": "code",
   "execution_count": null,
   "id": "76dd4b1e",
   "metadata": {},
   "outputs": [],
   "source": []
  },
  {
   "cell_type": "code",
   "execution_count": null,
   "id": "bc5ddfec",
   "metadata": {},
   "outputs": [],
   "source": []
  },
  {
   "cell_type": "code",
   "execution_count": null,
   "id": "4b8f2666",
   "metadata": {},
   "outputs": [],
   "source": []
  },
  {
   "cell_type": "code",
   "execution_count": null,
   "id": "cebe4105",
   "metadata": {},
   "outputs": [],
   "source": []
  },
  {
   "cell_type": "code",
   "execution_count": null,
   "id": "78413f23",
   "metadata": {},
   "outputs": [],
   "source": []
  },
  {
   "cell_type": "code",
   "execution_count": null,
   "id": "6df66891",
   "metadata": {},
   "outputs": [],
   "source": []
  }
 ],
 "metadata": {
  "kernelspec": {
   "display_name": "Python 3 (ipykernel)",
   "language": "python",
   "name": "python3"
  },
  "language_info": {
   "codemirror_mode": {
    "name": "ipython",
    "version": 3
   },
   "file_extension": ".py",
   "mimetype": "text/x-python",
   "name": "python",
   "nbconvert_exporter": "python",
   "pygments_lexer": "ipython3",
   "version": "3.11.5"
  }
 },
 "nbformat": 4,
 "nbformat_minor": 5
}
